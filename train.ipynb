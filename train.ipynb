{
 "cells": [
  {
   "cell_type": "code",
   "execution_count": 19,
   "metadata": {},
   "outputs": [],
   "source": [
    "import pandas as pd\n",
    "from sklearn.model_selection import train_test_split, GridSearchCV\n",
    "from sklearn.preprocessing import LabelEncoder, StandardScaler\n",
    "from xgboost import XGBClassifier\n",
    "from sklearn.metrics import accuracy_score, classification_report\n",
    "\n",
    "import joblib\n"
   ]
  },
  {
   "cell_type": "code",
   "execution_count": 20,
   "metadata": {},
   "outputs": [
    {
     "name": "stderr",
     "output_type": "stream",
     "text": [
      "C:\\Users\\PRINCE SOMPURA\\AppData\\Local\\Temp\\ipykernel_24792\\1261979349.py:3: FutureWarning: DataFrame.fillna with 'method' is deprecated and will raise in a future version. Use obj.ffill() or obj.bfill() instead.\n",
      "  data.fillna(method='ffill', inplace=True)\n"
     ]
    }
   ],
   "source": [
    "# Load Data\n",
    "data = pd.read_csv('dataset/dataset.csv')\n",
    "data.fillna(method='ffill', inplace=True)\n",
    "\n",
    "# Encode categorical features\n",
    "label_encoders = {}\n",
    "categorical_cols = ['gender', 'country', 'cancer_stage', 'family_history', 'smoking_status',\n",
    "                    'hypertension', 'asthma', 'cirrhosis', 'other_cancer', 'treatment_type', 'survived']\n",
    "\n",
    "for col in categorical_cols:\n",
    "    le = LabelEncoder()\n",
    "    data[col] = le.fit_transform(data[col])\n",
    "    label_encoders[col] = le\n",
    "\n",
    "# Convert dates to numerical timestamps\n",
    "data['diagnosis_date'] = pd.to_datetime(data['diagnosis_date']).astype(int) // 10**9\n",
    "data['end_treatment_date'] = pd.to_datetime(data['end_treatment_date']).astype(int) // 10**9\n"
   ]
  },
  {
   "cell_type": "code",
   "execution_count": 21,
   "metadata": {},
   "outputs": [],
   "source": [
    "# Scale numerical features\n",
    "scaler = StandardScaler()\n",
    "numerical_cols = ['age', 'bmi', 'cholesterol_level', 'diagnosis_date', 'end_treatment_date']\n",
    "data[numerical_cols] = scaler.fit_transform(data[numerical_cols])\n"
   ]
  },
  {
   "cell_type": "code",
   "execution_count": 22,
   "metadata": {},
   "outputs": [],
   "source": [
    "X = data.drop(['id', 'survived'], axis=1)\n",
    "y = data['survived']\n",
    "X_train, X_test, y_train, y_test = train_test_split(X, y, test_size=0.2, random_state=42)\n"
   ]
  },
  {
   "cell_type": "code",
   "execution_count": 18,
   "metadata": {},
   "outputs": [
    {
     "name": "stdout",
     "output_type": "stream",
     "text": [
      "Before SMOTE + Undersampling: survived\n",
      "0    555357\n",
      "1    156643\n",
      "Name: count, dtype: int64\n",
      "After SMOTE + Undersampling: survived\n",
      "1    468500\n",
      "0    209061\n",
      "Name: count, dtype: int64\n"
     ]
    }
   ],
   "source": [
    "from imblearn.combine import SMOTEENN\n",
    "\n",
    "# First use SMOTE + undersampling to balance data\n",
    "smote_enn = SMOTEENN(random_state=42)\n",
    "X_resampled, y_resampled = smote_enn.fit_resample(X_train, y_train)\n",
    "\n",
    "print(f\"Before SMOTE + Undersampling: {y_train.value_counts()}\")\n",
    "print(f\"After SMOTE + Undersampling: {pd.Series(y_resampled).value_counts()}\")\n"
   ]
  },
  {
   "cell_type": "code",
   "execution_count": 23,
   "metadata": {},
   "outputs": [
    {
     "name": "stdout",
     "output_type": "stream",
     "text": [
      "\n",
      "🏆 XGBoost Results:\n",
      "Accuracy: 0.4474887640449438\n",
      "              precision    recall  f1-score   support\n",
      "\n",
      "           0       0.78      0.40      0.53    138639\n",
      "           1       0.22      0.60      0.32     39361\n",
      "\n",
      "    accuracy                           0.45    178000\n",
      "   macro avg       0.50      0.50      0.43    178000\n",
      "weighted avg       0.66      0.45      0.49    178000\n",
      "\n"
     ]
    }
   ],
   "source": [
    "# Train XGBoost with imbalance handling\n",
    "\n",
    "xgb = XGBClassifier(\n",
    "    n_estimators=200,\n",
    "    max_depth=6,\n",
    "    learning_rate=0.1,\n",
    "    scale_pos_weight=(y_train.value_counts()[0] / y_train.value_counts()[1]) * 0.3,  # Reduced weight\n",
    "    random_state=42\n",
    ")\n",
    "\n",
    "\n",
    "\n",
    "xgb.fit(X_resampled, y_resampled)\n",
    "xgb_pred = xgb.predict(X_test)\n",
    "\n",
    "print(\"\\n🏆 XGBoost Results:\")\n",
    "print(f\"Accuracy: {accuracy_score(y_test, xgb_pred)}\")\n",
    "print(classification_report(y_test, xgb_pred))"
   ]
  },
  {
   "cell_type": "code",
   "execution_count": 24,
   "metadata": {},
   "outputs": [
    {
     "data": {
      "text/plain": [
       "['models/label_encoders.pkl']"
      ]
     },
     "execution_count": 24,
     "metadata": {},
     "output_type": "execute_result"
    }
   ],
   "source": [
    "joblib.dump(xgb, 'models/best_model.pkl')\n",
    "joblib.dump(scaler, 'models/scaler.pkl')\n",
    "joblib.dump(label_encoders, 'models/label_encoders.pkl')"
   ]
  }
 ],
 "metadata": {
  "kernelspec": {
   "display_name": "venv",
   "language": "python",
   "name": "python3"
  },
  "language_info": {
   "codemirror_mode": {
    "name": "ipython",
    "version": 3
   },
   "file_extension": ".py",
   "mimetype": "text/x-python",
   "name": "python",
   "nbconvert_exporter": "python",
   "pygments_lexer": "ipython3",
   "version": "3.12.1"
  }
 },
 "nbformat": 4,
 "nbformat_minor": 2
}
